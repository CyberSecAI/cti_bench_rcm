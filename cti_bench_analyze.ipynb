{
 "cells": [
  {
   "cell_type": "code",
   "execution_count": null,
   "metadata": {},
   "outputs": [],
   "source": [
    "import csv\n",
    "import re\n",
    "import pandas as pd\n",
    "from ydata_profiling import ProfileReport"
   ]
  },
  {
   "cell_type": "code",
   "execution_count": 2,
   "metadata": {},
   "outputs": [],
   "source": [
    "def analyze_cve_data(filename):\n",
    "    \"\"\"\n",
    "    Analyze a CVE data file and generate a profile report\n",
    "    \n",
    "    Args:\n",
    "        filename (str): Path to the CVE data file\n",
    "    \n",
    "    Returns:\n",
    "        pandas.DataFrame: The loaded dataframe\n",
    "        str: Path to the generated report file\n",
    "    \"\"\"\n",
    "    print(f\"\\n===== Analyzing file: {filename} =====\")\n",
    "    \n",
    "    # Verify file exists\n",
    "    if not os.path.exists(filename):\n",
    "        print(f\"Error: File '{filename}' not found\")\n",
    "        return None, None\n",
    "    \n",
    "    try:\n",
    "        # Read the CSV file with tab delimiter\n",
    "        df = pd.read_csv(filename, sep='\\t')\n",
    "        \n",
    "        # Display basic information about the dataset\n",
    "        print(\"Dataset shape:\", df.shape)\n",
    "        print(\"\\nFirst 3 rows of the dataset:\")\n",
    "        print(df.head(3))\n",
    "        \n",
    "        # Generate output filename based on input filename\n",
    "        output_filename = \"./reports/\" + os.path.splitext(os.path.basename(filename))[0] + \"_profile_report.html\"\n",
    "        \n",
    "        # Create a profile report with custom title\n",
    "        print(\"\\nGenerating profile report...\")\n",
    "        profile = ProfileReport(\n",
    "            df, \n",
    "            title=f\"CVE-CWE Mapping Analysis Report: {os.path.basename(filename)}\",\n",
    "            explorative=True,  # Enable detailed mode for deeper analysis\n",
    "            minimal=False,     # Don't use minimal report\n",
    "            sensitive=False    # Don't consider data as sensitive/confidential\n",
    "        )\n",
    "        \n",
    "        # Save the report to HTML\n",
    "        profile.to_file(output_filename)\n",
    "        \n",
    "        return df, output_filename\n",
    "        \n",
    "    except Exception as e:\n",
    "        print(f\"Error processing file: {e}\")\n",
    "        return None, None"
   ]
  },
  {
   "cell_type": "code",
   "execution_count": 3,
   "metadata": {},
   "outputs": [
    {
     "name": "stdout",
     "output_type": "stream",
     "text": [
      "\n",
      "===== Analyzing file: data_in/cti-rcm.tsv =====\n",
      "Dataset shape: (1000, 4)\n",
      "\n",
      "First 3 rows of the dataset:\n",
      "                                               URL  \\\n",
      "0  https://nvd.nist.gov/vuln/detail/CVE-2024-23848   \n",
      "1  https://nvd.nist.gov/vuln/detail/CVE-2023-38738   \n",
      "2  https://nvd.nist.gov/vuln/detail/CVE-2024-22137   \n",
      "\n",
      "                                         Description  \\\n",
      "0  In the Linux kernel through 6.7.1, there is a ...   \n",
      "1  IBM OpenPages with Watson 8.3 and 9.0 could pr...   \n",
      "2  Improper Neutralization of Input During Web Pa...   \n",
      "\n",
      "                                              Prompt       GT  \n",
      "0  Analyze the following CVE description and map ...  CWE-416  \n",
      "1  Analyze the following CVE description and map ...  CWE-257  \n",
      "2  Analyze the following CVE description and map ...   CWE-79  \n",
      "\n",
      "Generating profile report...\n"
     ]
    },
    {
     "data": {
      "application/vnd.jupyter.widget-view+json": {
       "model_id": "4aa26e7e51054abfaa23f62c18938129",
       "version_major": 2,
       "version_minor": 0
      },
      "text/plain": [
       "Summarize dataset:   0%|          | 0/5 [00:00<?, ?it/s]"
      ]
     },
     "metadata": {},
     "output_type": "display_data"
    },
    {
     "data": {
      "application/vnd.jupyter.widget-view+json": {
       "model_id": "3c6ecd751fbe4a299e81f0c3b68eed03",
       "version_major": 2,
       "version_minor": 0
      },
      "text/plain": [
       "Generate report structure:   0%|          | 0/1 [00:00<?, ?it/s]"
      ]
     },
     "metadata": {},
     "output_type": "display_data"
    },
    {
     "data": {
      "application/vnd.jupyter.widget-view+json": {
       "model_id": "2399b7edb148435a9e8e2b581d0207e3",
       "version_major": 2,
       "version_minor": 0
      },
      "text/plain": [
       "Render HTML:   0%|          | 0/1 [00:00<?, ?it/s]"
      ]
     },
     "metadata": {},
     "output_type": "display_data"
    },
    {
     "data": {
      "application/vnd.jupyter.widget-view+json": {
       "model_id": "16e46b8ee981450c85a2da9786a6709e",
       "version_major": 2,
       "version_minor": 0
      },
      "text/plain": [
       "Export report to file:   0%|          | 0/1 [00:00<?, ?it/s]"
      ]
     },
     "metadata": {},
     "output_type": "display_data"
    },
    {
     "name": "stdout",
     "output_type": "stream",
     "text": [
      "\n",
      "===== Analyzing file: data_in/cti-rcm-2021.tsv =====\n",
      "Dataset shape: (1000, 4)\n",
      "\n",
      "First 3 rows of the dataset:\n",
      "                                               URL  \\\n",
      "0  https://nvd.nist.gov/vuln/detail/CVE-2021-36335   \n",
      "1  https://nvd.nist.gov/vuln/detail/CVE-2021-33726   \n",
      "2  https://nvd.nist.gov/vuln/detail/CVE-2021-38681   \n",
      "\n",
      "                                         Description  \\\n",
      "0  Dell EMC CloudLink 7.1 and all prior versions ...   \n",
      "1  A vulnerability has been identified in SINEC N...   \n",
      "2  A reflected cross-site scripting (XSS) vulnera...   \n",
      "\n",
      "                                              Prompt      GT  \n",
      "0  Analyze the following CVE description and map ...  CWE-20  \n",
      "1  Analyze the following CVE description and map ...  CWE-22  \n",
      "2  Analyze the following CVE description and map ...  CWE-79  \n",
      "\n",
      "Generating profile report...\n"
     ]
    },
    {
     "data": {
      "application/vnd.jupyter.widget-view+json": {
       "model_id": "87166e4e771c451e8b5a1266d44e95dd",
       "version_major": 2,
       "version_minor": 0
      },
      "text/plain": [
       "Summarize dataset:   0%|          | 0/5 [00:00<?, ?it/s]"
      ]
     },
     "metadata": {},
     "output_type": "display_data"
    },
    {
     "data": {
      "application/vnd.jupyter.widget-view+json": {
       "model_id": "22d490d39bf94170aaf850b0d2fbb1cf",
       "version_major": 2,
       "version_minor": 0
      },
      "text/plain": [
       "Generate report structure:   0%|          | 0/1 [00:00<?, ?it/s]"
      ]
     },
     "metadata": {},
     "output_type": "display_data"
    },
    {
     "data": {
      "application/vnd.jupyter.widget-view+json": {
       "model_id": "0132fb6b95674baca32df997cd25a156",
       "version_major": 2,
       "version_minor": 0
      },
      "text/plain": [
       "Render HTML:   0%|          | 0/1 [00:00<?, ?it/s]"
      ]
     },
     "metadata": {},
     "output_type": "display_data"
    },
    {
     "data": {
      "application/vnd.jupyter.widget-view+json": {
       "model_id": "6eb70758dff34178838e2afdc0c9572c",
       "version_major": 2,
       "version_minor": 0
      },
      "text/plain": [
       "Export report to file:   0%|          | 0/1 [00:00<?, ?it/s]"
      ]
     },
     "metadata": {},
     "output_type": "display_data"
    }
   ],
   "source": [
    "# Define the filenames to analyze\n",
    "file1 = \"data_in/cti-rcm.tsv\"  # 2024\n",
    "file2 = \"data_in/cti-rcm-2021.tsv\"  # 2021\n",
    "\n",
    "# Analyze each file\n",
    "df1, report1 = analyze_cve_data(file1)\n",
    "df2, report2 = analyze_cve_data(file2)"
   ]
  }
 ],
 "metadata": {
  "kernelspec": {
   "display_name": "vulnerability_scoring3",
   "language": "python",
   "name": "python3"
  },
  "language_info": {
   "codemirror_mode": {
    "name": "ipython",
    "version": 3
   },
   "file_extension": ".py",
   "mimetype": "text/x-python",
   "name": "python",
   "nbconvert_exporter": "python",
   "pygments_lexer": "ipython3",
   "version": "3.11.1"
  },
  "orig_nbformat": 4,
  "vscode": {
   "interpreter": {
    "hash": "bfd020f60af6a5e8ba9fc70ea6c26a02b59c46c0b3707815ab84a14ae6ed0531"
   }
  }
 },
 "nbformat": 4,
 "nbformat_minor": 2
}
